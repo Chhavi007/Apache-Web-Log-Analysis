{
 "cells": [
  {
   "cell_type": "markdown",
   "id": "899a32bc",
   "metadata": {},
   "source": [
    "### **Installing the Packages**"
   ]
  },
  {
   "cell_type": "code",
   "execution_count": 6,
   "id": "f6ef03ba",
   "metadata": {},
   "outputs": [
    {
     "name": "stdout",
     "output_type": "stream",
     "text": [
      "Requirement already satisfied: reportlab in c:\\users\\sanjay kumar\\anaconda3\\lib\\site-packages (4.0.6)\n",
      "Requirement already satisfied: pillow>=9.0.0 in c:\\users\\sanjay kumar\\anaconda3\\lib\\site-packages (from reportlab) (9.2.0)\n"
     ]
    }
   ],
   "source": [
    "!pip install reportlab"
   ]
  },
  {
   "cell_type": "code",
   "execution_count": 7,
   "id": "3e11c86f",
   "metadata": {
    "scrolled": true
   },
   "outputs": [
    {
     "name": "stdout",
     "output_type": "stream",
     "text": [
      "Requirement already satisfied: user_agents in c:\\users\\sanjay kumar\\anaconda3\\lib\\site-packages (2.2.0)\n",
      "Requirement already satisfied: ua-parser>=0.10.0 in c:\\users\\sanjay kumar\\anaconda3\\lib\\site-packages (from user_agents) (0.18.0)\n"
     ]
    }
   ],
   "source": [
    "!pip install user_agents"
   ]
  },
  {
   "cell_type": "markdown",
   "id": "4f3b30fe",
   "metadata": {},
   "source": [
    "### **Importing the Packages**"
   ]
  },
  {
   "cell_type": "code",
   "execution_count": 2,
   "id": "e6d0c085",
   "metadata": {},
   "outputs": [],
   "source": [
    "# Importing modules\n",
    "import tkinter as tk\n",
    "from tkinter import filedialog\n",
    "from tkinter import ttk\n",
    "from tkinter import *\n",
    "import advertools as adv\n",
    "import pandas as pd\n",
    "import matplotlib.pyplot as plt\n",
    "import pyarrow.parquet as pq\n",
    "import pyarrow\n",
    "from ipywidgets import interact\n",
    "from user_agents import parse\n",
    "from ua_parser import user_agent_parser\n",
    "import os\n",
    "import os.path\n",
    "from pathlib import Path\n",
    "from matplotlib.backends.backend_tkagg import FigureCanvasTkAgg"
   ]
  },
  {
   "cell_type": "markdown",
   "id": "efbf9b08",
   "metadata": {},
   "source": [
    "### **Defining the Functions**"
   ]
  },
  {
   "cell_type": "code",
   "execution_count": 3,
   "id": "bd6e920c",
   "metadata": {},
   "outputs": [],
   "source": [
    "# Defining a function to ask for a file\n",
    "def ask_file():\n",
    "    filename = filedialog.askopenfilename(title=\"Select a log file\", filetypes=((\"log files\", \"*.log\"), (\"all files\", \"*.*\")))\n",
    "    if filename:\n",
    "        file_label.config(text=filename)\n",
    "        generate_button.config(state=NORMAL)\n",
    "    else:\n",
    "        file_label.config(text=\"No file selected\")\n",
    "        generate_button.config(state=DISABLED)\n"
   ]
  },
  {
   "cell_type": "code",
   "execution_count": 4,
   "id": "a49ef3f3",
   "metadata": {},
   "outputs": [],
   "source": [
    "# Converting the log file into parquet file\n",
    "def convert_file():\n",
    "    if os.path.exists('output_file.parquet'):\n",
    "        os.remove('output_file.parquet')\n",
    "    if os.path.exists('errors_file.txt'):\n",
    "        os.remove('errors_file.txt')\n",
    "    adv.logs_to_df(\n",
    "        log_file='log_file.log',\n",
    "        output_file='output_file.parquet',\n",
    "        errors_file='errors_file.txt',\n",
    "        log_format='combined')"
   ]
  },
  {
   "cell_type": "code",
   "execution_count": 5,
   "id": "3cd5defa",
   "metadata": {},
   "outputs": [],
   "source": [
    "# Defining the function to clear the canvas\n",
    "def clear_canvas():\n",
    "    global w, fig\n",
    "    if w and fig:\n",
    "        w.pack_forget()\n",
    "        fig.clear()\n",
    "        w = None\n",
    "        fig = None\n"
   ]
  },
  {
   "cell_type": "code",
   "execution_count": 6,
   "id": "7e20352d",
   "metadata": {},
   "outputs": [],
   "source": [
    "# Defining the function to plot the top 10 visitors\n",
    "def plot_top_visitors():\n",
    "    global w, fig\n",
    "    clear_canvas()\n",
    "    df = pd.read_parquet('output_file.parquet')\n",
    "    top_visitors = df['client'].value_counts().head(10) \n",
    "    fig = plt.figure(figsize=(8,6)) \n",
    "    ax = fig.add_subplot(111) \n",
    "    ax.bar(top_visitors.index, top_visitors.values) \n",
    "    ax.set_xlabel(\"IP Address\") \n",
    "    ax.set_ylabel(\"Number of visits\") \n",
    "    ax.set_title(\"Top 10 Visitors\") \n",
    "    ax.tick_params(axis='x', labelrotation = 40)\n",
    "    fig.tight_layout() \n",
    "    mpl_canvas = FigureCanvasTkAgg(fig, master=output_canvas) \n",
    "    output_canvas.update()\n",
    "    mpl_canvas.draw() \n",
    "    w = mpl_canvas.get_tk_widget()\n",
    "    w.pack(side=tk.TOP, fill=tk.BOTH, expand=True)"
   ]
  },
  {
   "cell_type": "code",
   "execution_count": 7,
   "id": "a77c33be",
   "metadata": {},
   "outputs": [],
   "source": [
    "# Defining the function to plot the top 10 most frequent requests\n",
    "def plot_top_requests():\n",
    "    global w, fig\n",
    "    clear_canvas()\n",
    "    df = pd.read_parquet('output_file.parquet')\n",
    "    top_requests = df['request'].value_counts().head(10) \n",
    "    fig = plt.figure(figsize=(10,6)) \n",
    "    ax = fig.add_subplot(111) \n",
    "    ax.barh(top_requests.index, top_requests.values, color ='red') \n",
    "    ax.set_xlabel(\"Number of requests\") \n",
    "    ax.set_ylabel(\"Requested URL\") \n",
    "    ax.set_title(\"Top 10 Most Frequent Requests\") \n",
    "    fig.tight_layout() \n",
    "    mpl_canvas = FigureCanvasTkAgg(fig, master=output_canvas) \n",
    "    output_canvas.update()\n",
    "    mpl_canvas.draw() \n",
    "    w = mpl_canvas.get_tk_widget()\n",
    "    w.pack(side=tk.TOP, fill=tk.BOTH, expand=True)"
   ]
  },
  {
   "cell_type": "code",
   "execution_count": 8,
   "id": "e5db3fb1",
   "metadata": {},
   "outputs": [],
   "source": [
    "# Defining the function to plot the distribution of status codes\n",
    "def plot_status_codes():\n",
    "    global w, fig\n",
    "    clear_canvas()\n",
    "    df = pd.read_parquet('output_file.parquet')\n",
    "    status_df = df.groupby('status').size().reset_index(name='count')\n",
    "    x = status_df['status']\n",
    "    y = status_df['count'] \n",
    "    percent = 100.*y/y.sum()\n",
    "    fig = plt.figure(figsize=(8,6)) \n",
    "    ax = fig.add_subplot(111) \n",
    "    patches, texts = ax.pie(y, startangle=90, radius=1.2)\n",
    "    labels = ['{0} - {1:1.2f} %'.format(i,j) for i,j in zip(x, percent)]\n",
    "    sort_legend = True\n",
    "    if sort_legend:\n",
    "        patches, labels, dummy =  zip(*sorted(zip(patches, labels, y), key=lambda x: x[2], reverse=True))\n",
    "        ax.legend(patches, labels, loc='upper center', bbox_to_anchor=(-0.3, 1),fontsize=8)\n",
    "        ax.set_title('Distribution of Status Codes')\n",
    "    fig.tight_layout() \n",
    "    mpl_canvas = FigureCanvasTkAgg(fig, master=output_canvas)\n",
    "    output_canvas.update() \n",
    "    mpl_canvas.draw() \n",
    "    w = mpl_canvas.get_tk_widget()\n",
    "    w.pack(side=tk.TOP, fill=tk.BOTH, expand=True)"
   ]
  },
  {
   "cell_type": "code",
   "execution_count": 9,
   "id": "d9b4d680",
   "metadata": {},
   "outputs": [],
   "source": [
    "# Defining the function to plot the hourly and weekly averages\n",
    "def plot_hourly_weekly():\n",
    "    global w, fig\n",
    "    clear_canvas()\n",
    "    df = pd.read_parquet('output_file.parquet')\n",
    "    df['datetime'] = pd.to_datetime(df['datetime'],format='%d/%b/%Y:%H:%M:%S %z')\n",
    "    df['datetime'] = pd.to_datetime(df['datetime'],utc=True)\n",
    "    df['hour'] = df['datetime'].dt.hour\n",
    "    df['day_of_week'] = df['datetime'].dt.dayofweek\n",
    "    hourly_counts = df.groupby(['day_of_week', 'hour'])['hour'].count().reset_index(name='request_count')\n",
    "    weekly_avg = df.groupby(['day_of_week'])['day_of_week'].count().reset_index(name='request_count')\n",
    "    fig, (ax1, ax2) = plt.subplots(1, 2, figsize=(8,3)) \n",
    "    ax1.plot(hourly_counts['hour'], hourly_counts['request_count'])\n",
    "    ax1.set_xlabel(\"Hour\")\n",
    "    ax1.set_ylabel(\"Average Requests\")\n",
    "    ax1.set_title(\"Hourly Average\")\n",
    "    ax2.plot(weekly_avg['day_of_week'], weekly_avg['request_count'])\n",
    "    ax2.set_xlabel(\"Day\")\n",
    "    ax2.set_ylabel(\"Average Requests\") \n",
    "    ax2.set_title(\"Weekly Average\")\n",
    "    fig.tight_layout() \n",
    "    mpl_canvas = FigureCanvasTkAgg(fig, master=output_canvas) \n",
    "    output_canvas.update()\n",
    "    mpl_canvas.draw() \n",
    "    w = mpl_canvas.get_tk_widget()\n",
    "    w.pack(side=tk.TOP, fill=tk.BOTH, expand=True)\n"
   ]
  },
  {
   "cell_type": "code",
   "execution_count": 10,
   "id": "4489d7c5",
   "metadata": {},
   "outputs": [],
   "source": [
    "# Defining the function to plot the browser hits\n",
    "def extract_browser(user_agent):\n",
    "    ua = parse(user_agent)\n",
    "    browser_family = ua.browser.family.lower()\n",
    "    if 'chrome' in browser_family:\n",
    "        return 'Chrome'\n",
    "    elif 'firefox' in browser_family:\n",
    "        return 'Firefox'\n",
    "    elif 'safari' in browser_family:\n",
    "        return 'Safari'\n",
    "    elif 'edge' in browser_family:\n",
    "        return 'Edge'\n",
    "    elif 'opera' in browser_family:\n",
    "        return 'Opera'\n",
    "    elif 'brave' in browser_family:\n",
    "        return 'Brave'\n",
    "    elif 'internet explorer' in browser_family or 'msie' in browser_family:\n",
    "        return 'Internet Explorer'\n",
    "    else:\n",
    "        return 'Other'\n",
    "def plot_top_browsers():\n",
    "    global w, fig\n",
    "    clear_canvas()\n",
    "    df = pd.read_parquet('output_file.parquet')\n",
    "    df['browser'] = df['user_agent'].apply(extract_browser)\n",
    "    browser_hits = df.groupby('browser').size().reset_index(name='total_hits')\n",
    "    browser_hits = browser_hits.sort_values(by=['total_hits'], ascending=False)\n",
    "    fig = plt.figure(figsize=(10,6)) \n",
    "    ax = fig.add_subplot(111)  \n",
    "    ax.bar(browser_hits['browser'], browser_hits['total_hits']) \n",
    "    ax.set_xlabel(\"Browser Name\") \n",
    "    ax.set_ylabel(\"Number of visits\") \n",
    "    ax.set_title(\"Hits by Different Browsers\")  \n",
    "    fig.tight_layout()  \n",
    "    mpl_canvas = FigureCanvasTkAgg(fig, master=data_frame)\n",
    "    output_canvas.update()\n",
    "    mpl_canvas.draw()  \n",
    "    w = mpl_canvas.get_tk_widget()\n",
    "    w.pack(side=tk.TOP, fill=tk.BOTH, expand=True) "
   ]
  },
  {
   "cell_type": "code",
   "execution_count": 11,
   "id": "22ebce3c",
   "metadata": {},
   "outputs": [],
   "source": [
    "# Defining the function to plot the hourly hit of top 10 sites\n",
    "def extract_site(referer):\n",
    "    if pd.isna(referer):\n",
    "        return 'Direct'\n",
    "    else:\n",
    "        referer_parts = referer.split('/')\n",
    "        if len(referer_parts) >= 3:\n",
    "            return referer_parts[2]\n",
    "        else:\n",
    "            return 'Unknown'\n",
    "def plot_hourly_hit():\n",
    "    global w, fig\n",
    "    clear_canvas()    \n",
    "    df = pd.read_parquet('output_file.parquet')\n",
    "    df['datetime'] = pd.to_datetime(df['datetime'],format='%d/%b/%Y:%H:%M:%S %z')\n",
    "    df['site'] = df['referer'].apply(extract_site)\n",
    "    df['datetime'] = pd.to_datetime(df['datetime'],utc=True)\n",
    "    df['hour'] = df['datetime'].dt.hour\n",
    "    hourly_hits = df.groupby('hour').size().reset_index(name='total_hits')\n",
    "    hourly_hits = hourly_hits.sort_values(by=['total_hits'], ascending=False).head(10)\n",
    "    fig = plt.figure(figsize=(8,6)) \n",
    "    ax = fig.add_subplot(111)  \n",
    "    ax.bar(hourly_hits['hour'], hourly_hits['total_hits']) \n",
    "    ax.set_ylabel(\"Number of Hits\")  \n",
    "    ax.set_xlabel(\"Hour\") \n",
    "    ax.set_title(\"Hourly Hits\")  \n",
    "    fig.tight_layout() \n",
    "    mpl_canvas = FigureCanvasTkAgg(fig, master=output_canvas)\n",
    "    output_canvas.update()\n",
    "    mpl_canvas.draw()\n",
    "    w = mpl_canvas.get_tk_widget()\n",
    "    w.pack(side=tk.TOP, fill=tk.BOTH, expand=True)"
   ]
  },
  {
   "cell_type": "markdown",
   "id": "006a9bb3",
   "metadata": {},
   "source": [
    "## Creating the Tkinter Window"
   ]
  },
  {
   "cell_type": "code",
   "execution_count": null,
   "id": "03dad88d",
   "metadata": {
    "scrolled": true
   },
   "outputs": [
    {
     "name": "stdout",
     "output_type": "stream",
     "text": [
      "Parsed       2,425,942 lines.\n"
     ]
    }
   ],
   "source": [
    "# Initializing global variables for canvas widget and figure object\n",
    "global w, fig\n",
    "w = None\n",
    "fig = None\n",
    "\n",
    "# Creating root window \n",
    "root = tk.Tk()\n",
    "root.title(\"Web Log Analysis Generator\")\n",
    "root.geometry(\"300x400\")\n",
    "root.state(\"zoomed\")\n",
    "title_label = tk.Label(root,text = \"Apache Web Log Analysis\", font=(\"Calibri\",50,\"bold\"),bd=10,relief=tk.GROOVE,bg=\"#35455D\",fg=\"white\")\n",
    "title_label.pack(side='top',fill='x')\n",
    "\n",
    "# Creating a label for instructions \n",
    "instruction_label = tk.Label(root, text=\"Please select a log file to generate a report:\",font=(\"Calibri\",12))\n",
    "instruction_label.place(x=0,y=110)\n",
    "\n",
    "# Creating a button for asking file \n",
    "ask_button = tk.Button(root, text=\"Select File\", command=ask_file)\n",
    "ask_button.place(x=300,y=110)\n",
    "\n",
    "# Creating a label for displaying file name\n",
    "file_label = tk.Label(root, text=\"No file selected\",font=(\"Calibri\",12))\n",
    "file_label.place(x=380,y=110)\n",
    "\n",
    "# Creating the frames\n",
    "option_frame = tk.LabelFrame(root,text=\"Choose an option\",font=(\"Calibri,20\"),bd=12,relief=tk.GROOVE)\n",
    "option_frame.place(x=2,y=140,width=350,height=580)\n",
    "\n",
    "data_frame = tk.LabelFrame(root,text=\"Generated Analysis\",font=(\"Calibri,20\"),bd=12,relief=tk.GROOVE)\n",
    "data_frame.place(x=350,y=140,width=930,height=580)\n",
    "\n",
    "# Creating buttons\n",
    "generate_button = tk.Button(option_frame, text=\"Convert the Selected File\", command=convert_file, state=tk.DISABLED,font=(\"arial\",12,))\n",
    "generate_button.grid(row=1,column=2,padx=40,pady=20)\n",
    "\n",
    "visitor = tk.Button(option_frame, text=\"Top 10 Visitors\",font=(\"arial\",12,\"bold\"),width=25,pady=5,command=plot_top_visitors)\n",
    "visitor.grid(row=2,column=2,padx=40,pady=10)\n",
    "\n",
    "frequent_requests = tk.Button(option_frame, text=\"Top 10 Most Frequent Requests\",font=(\"arial\",12,\"bold\"),width=25,pady=5,command=plot_top_requests)\n",
    "frequent_requests.grid(row=3,column=2,padx=40,pady=20)\n",
    "\n",
    "average = tk.Button(option_frame, text=\"Hourly and Weekly Average\",font=(\"arial\",12,\"bold\"),width=25,pady=5,command=plot_hourly_weekly)\n",
    "average.grid(row=4,column=2,padx=40,pady=20)\n",
    "\n",
    "browser_hit = tk.Button(option_frame, text=\"Browser Hits\",font=(\"arial\",12,\"bold\"),width=25,pady=5,command=plot_top_browsers)\n",
    "browser_hit.grid(row=5,column=2,padx=40,pady=20)\n",
    "\n",
    "site_hit = tk.Button(option_frame, text=\"Hourly Hits of Top Sites\",font=(\"arial\",12,\"bold\"),width=25,pady=5,command=plot_hourly_hit)\n",
    "site_hit.grid(row=6,column=2,padx=40,pady=20)\n",
    "\n",
    "status_code = tk.Button(option_frame, text=\"Distribution of Status Code\",font=(\"arial\",12,\"bold\"),width=25,pady=5,command=plot_status_codes)\n",
    "status_code.grid(row=7,column=2,padx=40,pady=20)\n",
    "\n",
    "output_canvas = tk.Canvas(data_frame)\n",
    "output_canvas.pack(fill=tk.BOTH, expand=True)\n",
    "\n",
    "# Starting the main loop using\n",
    "root.mainloop()"
   ]
  },
  {
   "cell_type": "code",
   "execution_count": 18,
   "id": "75447f18",
   "metadata": {},
   "outputs": [],
   "source": []
  },
  {
   "cell_type": "code",
   "execution_count": null,
   "id": "d7a5a29c",
   "metadata": {},
   "outputs": [],
   "source": []
  },
  {
   "cell_type": "code",
   "execution_count": null,
   "id": "9d7ae333",
   "metadata": {},
   "outputs": [],
   "source": []
  }
 ],
 "metadata": {
  "kernelspec": {
   "display_name": "Python 3 (ipykernel)",
   "language": "python",
   "name": "python3"
  },
  "language_info": {
   "codemirror_mode": {
    "name": "ipython",
    "version": 3
   },
   "file_extension": ".py",
   "mimetype": "text/x-python",
   "name": "python",
   "nbconvert_exporter": "python",
   "pygments_lexer": "ipython3",
   "version": "3.9.13"
  }
 },
 "nbformat": 4,
 "nbformat_minor": 5
}
